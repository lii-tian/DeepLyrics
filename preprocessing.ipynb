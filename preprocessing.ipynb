{
 "cells": [
  {
   "cell_type": "code",
   "execution_count": 1,
   "metadata": {},
   "outputs": [],
   "source": [
    "import pandas as pd\n",
    "from sklearn.model_selection import train_test_split\n",
    "import re\n",
    "import regex\n",
    "import matplotlib.pyplot as plt"
   ]
  },
  {
   "cell_type": "code",
   "execution_count": 2,
   "metadata": {},
   "outputs": [
    {
     "name": "stderr",
     "output_type": "stream",
     "text": [
      "/Users/lizi/opt/anaconda3/envs/cs224n/lib/python3.7/site-packages/IPython/core/interactiveshell.py:3457: DtypeWarning: Columns (3,5,6,22,28,102) have mixed types.Specify dtype option on import or set low_memory=False.\n",
      "  exec(code_obj, self.user_global_ns, self.user_ns)\n"
     ]
    },
    {
     "data": {
      "text/html": [
       "<div>\n",
       "<style scoped>\n",
       "    .dataframe tbody tr th:only-of-type {\n",
       "        vertical-align: middle;\n",
       "    }\n",
       "\n",
       "    .dataframe tbody tr th {\n",
       "        vertical-align: top;\n",
       "    }\n",
       "\n",
       "    .dataframe thead th {\n",
       "        text-align: right;\n",
       "    }\n",
       "</style>\n",
       "<table border=\"1\" class=\"dataframe\">\n",
       "  <thead>\n",
       "    <tr style=\"text-align: right;\">\n",
       "      <th></th>\n",
       "      <th>artist</th>\n",
       "      <th>genre</th>\n",
       "      <th>lyrics</th>\n",
       "    </tr>\n",
       "  </thead>\n",
       "  <tbody>\n",
       "    <tr>\n",
       "      <th>0</th>\n",
       "      <td>Gino &amp; Gina</td>\n",
       "      <td>Rock</td>\n",
       "      <td>(It's Been A Long Time) Pretty Baby Gino &amp; Gin...</td>\n",
       "    </tr>\n",
       "    <tr>\n",
       "      <th>1</th>\n",
       "      <td>Johnny Mathis</td>\n",
       "      <td>Vocal</td>\n",
       "      <td>A certain smile, a certain face Can lead an un...</td>\n",
       "    </tr>\n",
       "    <tr>\n",
       "      <th>2</th>\n",
       "      <td>Jimmy Clanton</td>\n",
       "      <td>Rock</td>\n",
       "      <td>I've been restless every night Since that nigh...</td>\n",
       "    </tr>\n",
       "    <tr>\n",
       "      <th>3</th>\n",
       "      <td>Everly Brothers</td>\n",
       "      <td>Rock</td>\n",
       "      <td>[Intro] Dream, dream, dream, dream Dream, drea...</td>\n",
       "    </tr>\n",
       "    <tr>\n",
       "      <th>4</th>\n",
       "      <td>Johnny Cash</td>\n",
       "      <td>Country</td>\n",
       "      <td>[Verse] Every time I look at you I fall in lov...</td>\n",
       "    </tr>\n",
       "  </tbody>\n",
       "</table>\n",
       "</div>"
      ],
      "text/plain": [
       "            artist    genre                                             lyrics\n",
       "0      Gino & Gina     Rock  (It's Been A Long Time) Pretty Baby Gino & Gin...\n",
       "1    Johnny Mathis    Vocal  A certain smile, a certain face Can lead an un...\n",
       "2    Jimmy Clanton     Rock  I've been restless every night Since that nigh...\n",
       "3  Everly Brothers     Rock  [Intro] Dream, dream, dream, dream Dream, drea...\n",
       "4      Johnny Cash  Country  [Verse] Every time I look at you I fall in lov..."
      ]
     },
     "execution_count": 2,
     "metadata": {},
     "output_type": "execute_result"
    }
   ],
   "source": [
    "df = pd.read_csv('Billboard_100_dataset.csv')#,  names=['wiki_id', 'freebase_id', 'title', 'author', 'date', 'genres', 'summary'])\n",
    "df = df[['Artist', 'Genre', 'Lyrics']]\n",
    "df.rename(columns={'Artist': 'artist', 'Genre':'genre', 'Lyrics':'lyrics'}, inplace = True)\n",
    "df.head()\n",
    "# print (f'number of songs are {len(df)}')"
   ]
  },
  {
   "cell_type": "code",
   "execution_count": 3,
   "metadata": {},
   "outputs": [],
   "source": [
    "def replace_all_tokens(s):\n",
    "    return re.sub(r'\\[[^]?]*\\]', \"[VERSE]\", s)\n",
    "\n",
    "def remove_nonlatin_chars(s):\n",
    "    encoded_string = s.encode(\"ascii\", \"ignore\")\n",
    "    decode_string = encoded_string.decode()\n",
    "    return decode_string\n",
    "\n",
    "def replace_all_missing(s):\n",
    "    return re.sub(r'\\[[?]\\]', \"[UNKNOWN]\", s)\n",
    "    "
   ]
  },
  {
   "cell_type": "code",
   "execution_count": 4,
   "metadata": {},
   "outputs": [],
   "source": [
    "def cleaning(lyric):\n",
    "    lyric = remove_nonlatin_chars(lyric)\n",
    "    lyric = replace_all_tokens(lyric)\n",
    "    lyric = replace_all_missing(lyric)\n",
    "    return lyric"
   ]
  },
  {
   "cell_type": "code",
   "execution_count": 5,
   "metadata": {},
   "outputs": [
    {
     "data": {
      "text/html": [
       "<div>\n",
       "<style scoped>\n",
       "    .dataframe tbody tr th:only-of-type {\n",
       "        vertical-align: middle;\n",
       "    }\n",
       "\n",
       "    .dataframe tbody tr th {\n",
       "        vertical-align: top;\n",
       "    }\n",
       "\n",
       "    .dataframe thead th {\n",
       "        text-align: right;\n",
       "    }\n",
       "</style>\n",
       "<table border=\"1\" class=\"dataframe\">\n",
       "  <thead>\n",
       "    <tr style=\"text-align: right;\">\n",
       "      <th></th>\n",
       "      <th>artist</th>\n",
       "      <th>genre</th>\n",
       "      <th>lyrics</th>\n",
       "      <th>clean_lyrics</th>\n",
       "    </tr>\n",
       "  </thead>\n",
       "  <tbody>\n",
       "    <tr>\n",
       "      <th>0</th>\n",
       "      <td>Gino &amp; Gina</td>\n",
       "      <td>Rock</td>\n",
       "      <td>(It's Been A Long Time) Pretty Baby Gino &amp; Gin...</td>\n",
       "      <td>(It's Been A Long Time) Pretty Baby Gino &amp; Gin...</td>\n",
       "    </tr>\n",
       "    <tr>\n",
       "      <th>1</th>\n",
       "      <td>Johnny Mathis</td>\n",
       "      <td>Vocal</td>\n",
       "      <td>A certain smile, a certain face Can lead an un...</td>\n",
       "      <td>A certain smile, a certain face Can lead an un...</td>\n",
       "    </tr>\n",
       "    <tr>\n",
       "      <th>2</th>\n",
       "      <td>Jimmy Clanton</td>\n",
       "      <td>Rock</td>\n",
       "      <td>I've been restless every night Since that nigh...</td>\n",
       "      <td>I've been restless every night Since that nigh...</td>\n",
       "    </tr>\n",
       "    <tr>\n",
       "      <th>3</th>\n",
       "      <td>Everly Brothers</td>\n",
       "      <td>Rock</td>\n",
       "      <td>[Intro] Dream, dream, dream, dream Dream, drea...</td>\n",
       "      <td>[VERSE] Dream, dream, dream, dream Dream, drea...</td>\n",
       "    </tr>\n",
       "    <tr>\n",
       "      <th>4</th>\n",
       "      <td>Johnny Cash</td>\n",
       "      <td>Country</td>\n",
       "      <td>[Verse] Every time I look at you I fall in lov...</td>\n",
       "      <td>[VERSE] Every time I look at you I fall in lov...</td>\n",
       "    </tr>\n",
       "  </tbody>\n",
       "</table>\n",
       "</div>"
      ],
      "text/plain": [
       "            artist    genre  \\\n",
       "0      Gino & Gina     Rock   \n",
       "1    Johnny Mathis    Vocal   \n",
       "2    Jimmy Clanton     Rock   \n",
       "3  Everly Brothers     Rock   \n",
       "4      Johnny Cash  Country   \n",
       "\n",
       "                                              lyrics  \\\n",
       "0  (It's Been A Long Time) Pretty Baby Gino & Gin...   \n",
       "1  A certain smile, a certain face Can lead an un...   \n",
       "2  I've been restless every night Since that nigh...   \n",
       "3  [Intro] Dream, dream, dream, dream Dream, drea...   \n",
       "4  [Verse] Every time I look at you I fall in lov...   \n",
       "\n",
       "                                        clean_lyrics  \n",
       "0  (It's Been A Long Time) Pretty Baby Gino & Gin...  \n",
       "1  A certain smile, a certain face Can lead an un...  \n",
       "2  I've been restless every night Since that nigh...  \n",
       "3  [VERSE] Dream, dream, dream, dream Dream, drea...  \n",
       "4  [VERSE] Every time I look at you I fall in lov...  "
      ]
     },
     "execution_count": 5,
     "metadata": {},
     "output_type": "execute_result"
    }
   ],
   "source": [
    "# remove empty lyrics\n",
    "df = df.dropna()\n",
    "df['clean_lyrics'] = df['lyrics'].apply(lambda x: cleaning(x))\n",
    "df.head()\n"
   ]
  },
  {
   "cell_type": "code",
   "execution_count": 6,
   "metadata": {},
   "outputs": [],
   "source": [
    "# save processed dataset\n",
    "df.to_csv('processed_lyrics.csv', index=False)"
   ]
  },
  {
   "cell_type": "code",
   "execution_count": 7,
   "metadata": {},
   "outputs": [],
   "source": [
    "train_test_ratio = 0.9\n",
    "train_valid_ratio = 7/9\n",
    "df_full_train, df_test = train_test_split(df, train_size = train_test_ratio, random_state = 1)\n",
    "df_train, df_valid = train_test_split(df_full_train, train_size = train_valid_ratio, random_state = 1)"
   ]
  },
  {
   "cell_type": "code",
   "execution_count": 10,
   "metadata": {},
   "outputs": [
    {
     "name": "stdout",
     "output_type": "stream",
     "text": [
      "Rock\n",
      "Vocal\n",
      "Rock\n",
      "Rock\n",
      "Country\n",
      "Country\n",
      "Vocal\n",
      "Folk\n",
      "Rock\n",
      "Rock\n"
     ]
    }
   ],
   "source": [
    "for _, row in df.iloc[:10].iterrows():\n",
    "    prow[1])"
   ]
  },
  {
   "cell_type": "code",
   "execution_count": 8,
   "metadata": {},
   "outputs": [],
   "source": [
    "def build_dataset(df, dest_path):\n",
    "    f = open(dest_path, 'w')\n",
    "    data = ''\n",
    "    summaries = df['summary'].tolist()\n",
    "    for summary in summaries:\n",
    "        summary = str(summary).strip()\n",
    "        summary = re.sub(r\"\\s\", \" \", summary)\n",
    "        bos_token = '<BOS>'\n",
    "        eos_token = '<EOS>'\n",
    "        data += bos_token + ' ' + summary + ' ' + eos_token + '\\n'\n",
    "        \n",
    "    f.write(data)"
   ]
  },
  {
   "cell_type": "code",
   "execution_count": 5,
   "metadata": {},
   "outputs": [],
   "source": [
    "build_dataset(df_train, 'train_.txt')\n",
    "build_dataset(df_valid, 'valid_.txt')\n",
    "build_dataset(df_test, 'test_.txt')"
   ]
  },
  {
   "cell_type": "code",
   "execution_count": null,
   "metadata": {},
   "outputs": [],
   "source": []
  }
 ],
 "metadata": {
  "kernelspec": {
   "display_name": "cs224n",
   "language": "python",
   "name": "python3"
  },
  "language_info": {
   "codemirror_mode": {
    "name": "ipython",
    "version": 3
   },
   "file_extension": ".py",
   "mimetype": "text/x-python",
   "name": "python",
   "nbconvert_exporter": "python",
   "pygments_lexer": "ipython3",
   "version": "3.7.15"
  },
  "vscode": {
   "interpreter": {
    "hash": "c9ee1a34c78e3e5a7c3f1db6ea416f3d1d1833b79701966ecef13b0cf7b9acb1"
   }
  }
 },
 "nbformat": 4,
 "nbformat_minor": 2
}
