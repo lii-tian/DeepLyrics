{
 "cells": [
  {
   "cell_type": "code",
   "execution_count": 1,
   "metadata": {},
   "outputs": [
    {
     "ename": "ModuleNotFoundError",
     "evalue": "No module named 'pandas'",
     "output_type": "error",
     "traceback": [
      "\u001b[0;31m---------------------------------------------------------------------------\u001b[0m",
      "\u001b[0;31mModuleNotFoundError\u001b[0m                       Traceback (most recent call last)",
      "Cell \u001b[0;32mIn[1], line 1\u001b[0m\n\u001b[0;32m----> 1\u001b[0m \u001b[38;5;28;01mimport\u001b[39;00m \u001b[38;5;21;01mpandas\u001b[39;00m \u001b[38;5;28;01mas\u001b[39;00m \u001b[38;5;21;01mpd\u001b[39;00m\n\u001b[1;32m      2\u001b[0m \u001b[38;5;28;01mfrom\u001b[39;00m \u001b[38;5;21;01msklearn\u001b[39;00m\u001b[38;5;21;01m.\u001b[39;00m\u001b[38;5;21;01mmodel_selection\u001b[39;00m \u001b[38;5;28;01mimport\u001b[39;00m train_test_split\n\u001b[1;32m      3\u001b[0m \u001b[38;5;28;01mimport\u001b[39;00m \u001b[38;5;21;01mre\u001b[39;00m\n",
      "\u001b[0;31mModuleNotFoundError\u001b[0m: No module named 'pandas'"
     ]
    }
   ],
   "source": [
    "import pandas as pd\n",
    "from sklearn.model_selection import train_test_split\n",
    "import re\n",
    "import regex\n",
    "import matplotlib.pyplot as plt"
   ]
  },
  {
   "cell_type": "code",
   "execution_count": 85,
   "metadata": {},
   "outputs": [
    {
     "name": "stderr",
     "output_type": "stream",
     "text": [
      "/var/folders/wq/8n9bg9qs4yj4bzfc3wzs08f80000gn/T/ipykernel_26718/1199159047.py:1: DtypeWarning: Columns (3,5,6,22,28,102) have mixed types. Specify dtype option on import or set low_memory=False.\n",
      "  df = pd.read_csv('Billboard_100_dataset.csv')#,  names=['wiki_id', 'freebase_id', 'title', 'author', 'date', 'genres', 'summary'])\n"
     ]
    },
    {
     "data": {
      "text/html": [
       "<div>\n",
       "<style scoped>\n",
       "    .dataframe tbody tr th:only-of-type {\n",
       "        vertical-align: middle;\n",
       "    }\n",
       "\n",
       "    .dataframe tbody tr th {\n",
       "        vertical-align: top;\n",
       "    }\n",
       "\n",
       "    .dataframe thead th {\n",
       "        text-align: right;\n",
       "    }\n",
       "</style>\n",
       "<table border=\"1\" class=\"dataframe\">\n",
       "  <thead>\n",
       "    <tr style=\"text-align: right;\">\n",
       "      <th></th>\n",
       "      <th>artist</th>\n",
       "      <th>genre</th>\n",
       "      <th>lyrics</th>\n",
       "    </tr>\n",
       "  </thead>\n",
       "  <tbody>\n",
       "    <tr>\n",
       "      <th>0</th>\n",
       "      <td>Gino &amp; Gina</td>\n",
       "      <td>Rock</td>\n",
       "      <td>(It's Been A Long Time) Pretty Baby Gino &amp; Gin...</td>\n",
       "    </tr>\n",
       "    <tr>\n",
       "      <th>1</th>\n",
       "      <td>Johnny Mathis</td>\n",
       "      <td>Vocal</td>\n",
       "      <td>A certain smile, a certain face Can lead an un...</td>\n",
       "    </tr>\n",
       "    <tr>\n",
       "      <th>2</th>\n",
       "      <td>Jimmy Clanton</td>\n",
       "      <td>Rock</td>\n",
       "      <td>I've been restless every night Since that nigh...</td>\n",
       "    </tr>\n",
       "    <tr>\n",
       "      <th>3</th>\n",
       "      <td>Everly Brothers</td>\n",
       "      <td>Rock</td>\n",
       "      <td>[Intro] Dream, dream, dream, dream Dream, drea...</td>\n",
       "    </tr>\n",
       "    <tr>\n",
       "      <th>4</th>\n",
       "      <td>Johnny Cash</td>\n",
       "      <td>Country</td>\n",
       "      <td>[Verse] Every time I look at you I fall in lov...</td>\n",
       "    </tr>\n",
       "  </tbody>\n",
       "</table>\n",
       "</div>"
      ],
      "text/plain": [
       "            artist    genre                                             lyrics\n",
       "0      Gino & Gina     Rock  (It's Been A Long Time) Pretty Baby Gino & Gin...\n",
       "1    Johnny Mathis    Vocal  A certain smile, a certain face Can lead an un...\n",
       "2    Jimmy Clanton     Rock  I've been restless every night Since that nigh...\n",
       "3  Everly Brothers     Rock  [Intro] Dream, dream, dream, dream Dream, drea...\n",
       "4      Johnny Cash  Country  [Verse] Every time I look at you I fall in lov..."
      ]
     },
     "execution_count": 85,
     "metadata": {},
     "output_type": "execute_result"
    }
   ],
   "source": [
    "df = pd.read_csv('Billboard_100_dataset.csv')#,  names=['wiki_id', 'freebase_id', 'title', 'author', 'date', 'genres', 'summary'])\n",
    "df = df[['Artist', 'Genre', 'Lyrics']]\n",
    "df.rename(columns={'Artist': 'artist', 'Genre':'genre', 'Lyrics':'lyrics'}, inplace = True)\n",
    "df.head()\n",
    "# print (f'number of songs are {len(df)}')"
   ]
  },
  {
   "cell_type": "code",
   "execution_count": 86,
   "metadata": {},
   "outputs": [],
   "source": [
    "def replace_all_tokens(s):\n",
    "    return re.sub(r'\\[[^]?]*\\]', \"[VERSE]\", s)\n",
    "\n",
    "def remove_nonlatin_chars(s):\n",
    "    encoded_string = s.encode(\"ascii\", \"ignore\")\n",
    "    decode_string = encoded_string.decode()\n",
    "    return decode_string\n",
    "\n",
    "def replace_all_missing(s):\n",
    "    return re.sub(r'\\[[?]\\]', \"[UNKNOWN]\", s)\n",
    "    "
   ]
  },
  {
   "cell_type": "code",
   "execution_count": 87,
   "metadata": {},
   "outputs": [],
   "source": [
    "def cleaning(lyric):\n",
    "    lyric = remove_nonlatin_chars(lyric)\n",
    "    lyric = replace_all_tokens(lyric)\n",
    "    lyric = replace_all_missing(lyric)\n",
    "    return lyric"
   ]
  },
  {
   "cell_type": "code",
   "execution_count": 88,
   "metadata": {},
   "outputs": [
    {
     "data": {
      "text/html": [
       "<div>\n",
       "<style scoped>\n",
       "    .dataframe tbody tr th:only-of-type {\n",
       "        vertical-align: middle;\n",
       "    }\n",
       "\n",
       "    .dataframe tbody tr th {\n",
       "        vertical-align: top;\n",
       "    }\n",
       "\n",
       "    .dataframe thead th {\n",
       "        text-align: right;\n",
       "    }\n",
       "</style>\n",
       "<table border=\"1\" class=\"dataframe\">\n",
       "  <thead>\n",
       "    <tr style=\"text-align: right;\">\n",
       "      <th></th>\n",
       "      <th>artist</th>\n",
       "      <th>genre</th>\n",
       "      <th>lyrics</th>\n",
       "      <th>clean_lyrics</th>\n",
       "    </tr>\n",
       "  </thead>\n",
       "  <tbody>\n",
       "    <tr>\n",
       "      <th>0</th>\n",
       "      <td>Gino &amp; Gina</td>\n",
       "      <td>Rock</td>\n",
       "      <td>(It's Been A Long Time) Pretty Baby Gino &amp; Gin...</td>\n",
       "      <td>(It's Been A Long Time) Pretty Baby Gino &amp; Gin...</td>\n",
       "    </tr>\n",
       "    <tr>\n",
       "      <th>1</th>\n",
       "      <td>Johnny Mathis</td>\n",
       "      <td>Vocal</td>\n",
       "      <td>A certain smile, a certain face Can lead an un...</td>\n",
       "      <td>A certain smile, a certain face Can lead an un...</td>\n",
       "    </tr>\n",
       "    <tr>\n",
       "      <th>2</th>\n",
       "      <td>Jimmy Clanton</td>\n",
       "      <td>Rock</td>\n",
       "      <td>I've been restless every night Since that nigh...</td>\n",
       "      <td>I've been restless every night Since that nigh...</td>\n",
       "    </tr>\n",
       "    <tr>\n",
       "      <th>3</th>\n",
       "      <td>Everly Brothers</td>\n",
       "      <td>Rock</td>\n",
       "      <td>[Intro] Dream, dream, dream, dream Dream, drea...</td>\n",
       "      <td>[VERSE] Dream, dream, dream, dream Dream, drea...</td>\n",
       "    </tr>\n",
       "    <tr>\n",
       "      <th>4</th>\n",
       "      <td>Johnny Cash</td>\n",
       "      <td>Country</td>\n",
       "      <td>[Verse] Every time I look at you I fall in lov...</td>\n",
       "      <td>[VERSE] Every time I look at you I fall in lov...</td>\n",
       "    </tr>\n",
       "  </tbody>\n",
       "</table>\n",
       "</div>"
      ],
      "text/plain": [
       "            artist    genre  \\\n",
       "0      Gino & Gina     Rock   \n",
       "1    Johnny Mathis    Vocal   \n",
       "2    Jimmy Clanton     Rock   \n",
       "3  Everly Brothers     Rock   \n",
       "4      Johnny Cash  Country   \n",
       "\n",
       "                                              lyrics  \\\n",
       "0  (It's Been A Long Time) Pretty Baby Gino & Gin...   \n",
       "1  A certain smile, a certain face Can lead an un...   \n",
       "2  I've been restless every night Since that nigh...   \n",
       "3  [Intro] Dream, dream, dream, dream Dream, drea...   \n",
       "4  [Verse] Every time I look at you I fall in lov...   \n",
       "\n",
       "                                        clean_lyrics  \n",
       "0  (It's Been A Long Time) Pretty Baby Gino & Gin...  \n",
       "1  A certain smile, a certain face Can lead an un...  \n",
       "2  I've been restless every night Since that nigh...  \n",
       "3  [VERSE] Dream, dream, dream, dream Dream, drea...  \n",
       "4  [VERSE] Every time I look at you I fall in lov...  "
      ]
     },
     "execution_count": 88,
     "metadata": {},
     "output_type": "execute_result"
    }
   ],
   "source": [
    "# remove empty lyrics\n",
    "df = df.dropna()\n",
    "df['clean_lyrics'] = df['lyrics'].apply(lambda x: cleaning(x))\n",
    "df.head()\n"
   ]
  },
  {
   "cell_type": "code",
   "execution_count": null,
   "metadata": {},
   "outputs": [],
   "source": [
    "# save processed dataset\n",
    "df.to_csv('processed_lyrics.csv', index=False)"
   ]
  },
  {
   "cell_type": "code",
   "execution_count": 3,
   "metadata": {},
   "outputs": [],
   "source": [
    "train_test_ratio = 0.9\n",
    "train_valid_ratio = 7/9\n",
    "df_full_train, df_test = train_test_split(df, train_size = train_test_ratio, random_state = 1)\n",
    "df_train, df_valid = train_test_split(df_full_train, train_size = train_valid_ratio, random_state = 1)"
   ]
  },
  {
   "cell_type": "code",
   "execution_count": null,
   "metadata": {},
   "outputs": [],
   "source": []
  },
  {
   "cell_type": "code",
   "execution_count": 4,
   "metadata": {},
   "outputs": [],
   "source": [
    "def build_dataset(df, dest_path):\n",
    "    f = open(dest_path, 'w')\n",
    "    data = ''\n",
    "    summaries = df['summary'].tolist()\n",
    "    for summary in summaries:\n",
    "        summary = str(summary).strip()\n",
    "        summary = re.sub(r\"\\s\", \" \", summary)\n",
    "        bos_token = '<BOS>'\n",
    "        eos_token = '<EOS>'\n",
    "        data += bos_token + ' ' + summary + ' ' + eos_token + '\\n'\n",
    "        \n",
    "    f.write(data)"
   ]
  },
  {
   "cell_type": "code",
   "execution_count": 5,
   "metadata": {},
   "outputs": [],
   "source": [
    "build_dataset(df_train, 'train.txt')\n",
    "build_dataset(df_valid, 'valid.txt')\n",
    "build_dataset(df_test, 'test.txt')"
   ]
  },
  {
   "cell_type": "code",
   "execution_count": null,
   "metadata": {},
   "outputs": [],
   "source": []
  }
 ],
 "metadata": {
  "kernelspec": {
   "display_name": "Python 3 (ipykernel)",
   "language": "python",
   "name": "python3"
  },
  "language_info": {
   "codemirror_mode": {
    "name": "ipython",
    "version": 3
   },
   "file_extension": ".py",
   "mimetype": "text/x-python",
   "name": "python",
   "nbconvert_exporter": "python",
   "pygments_lexer": "ipython3",
   "version": "3.10.6"
  },
  "vscode": {
   "interpreter": {
    "hash": "09843c3d72823ffecb7ca3a4ba73bf928ec259e8cae6d289bdc4c4526572fe4f"
   }
  }
 },
 "nbformat": 4,
 "nbformat_minor": 2
}
