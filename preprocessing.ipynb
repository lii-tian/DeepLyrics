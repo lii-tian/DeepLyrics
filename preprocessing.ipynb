{
 "cells": [
  {
   "cell_type": "code",
   "execution_count": 7,
   "metadata": {},
   "outputs": [],
   "source": [
    "import pandas as pd\n",
    "from sklearn.model_selection import train_test_split\n",
    "import re"
   ]
  },
  {
   "cell_type": "code",
   "execution_count": 15,
   "metadata": {},
   "outputs": [
    {
     "name": "stdout",
     "output_type": "stream",
     "text": [
      "number of songs are 23836\n"
     ]
    },
    {
     "name": "stderr",
     "output_type": "stream",
     "text": [
      "/Users/lizi/opt/anaconda3/envs/cs224n/lib/python3.7/site-packages/IPython/core/interactiveshell.py:3457: DtypeWarning: Columns (3,5,6,22,28,102) have mixed types.Specify dtype option on import or set low_memory=False.\n",
      "  exec(code_obj, self.user_global_ns, self.user_ns)\n"
     ]
    }
   ],
   "source": [
    "df = pd.read_csv('Billboard_100_dataset.csv')#,  names=['wiki_id', 'freebase_id', 'title', 'author', 'date', 'genres', 'summary'])\n",
    "df = df[['Artist', 'Genre', 'Lyrics']]\n",
    "df.rename(columns={'Artist': 'artist', 'Genre':'genre', 'Lyrics':'lyrics'}, inplace = True)\n",
    "df.head()\n",
    "print (f'number of songs are {len(df)}')"
   ]
  },
  {
   "cell_type": "code",
   "execution_count": 24,
   "metadata": {},
   "outputs": [],
   "source": [
    "def cleaning(lyric):\n",
    "    #clean data \n",
    "    return lyric"
   ]
  },
  {
   "cell_type": "code",
   "execution_count": 21,
   "metadata": {},
   "outputs": [
    {
     "data": {
      "text/plain": [
       "0        (It's Been A Long Time) Pretty Baby Gino & Gin...\n",
       "1        A certain smile, a certain face Can lead an un...\n",
       "2        I've been restless every night Since that nigh...\n",
       "3        [Intro] Dream, dream, dream, dream Dream, drea...\n",
       "4        [Verse] Every time I look at you I fall in lov...\n",
       "                               ...                        \n",
       "23831    [Verse 1: Camila] I ain't worried 'bout nothin...\n",
       "23832    [Verse 1] It's perfect outside, it's like God ...\n",
       "23833    [Verse 1] What if, what if we run away? What i...\n",
       "23834    [Verse 1] I thought we were great You took you...\n",
       "23835                                                  NaN\n",
       "Name: lyrics, Length: 23836, dtype: object"
      ]
     },
     "execution_count": 21,
     "metadata": {},
     "output_type": "execute_result"
    }
   ],
   "source": [
    "df.lyrics"
   ]
  },
  {
   "cell_type": "code",
   "execution_count": 3,
   "metadata": {},
   "outputs": [],
   "source": [
    "train_test_ratio = 0.9\n",
    "train_valid_ratio = 7/9\n",
    "df_full_train, df_test = train_test_split(df, train_size = train_test_ratio, random_state = 1)\n",
    "df_train, df_valid = train_test_split(df_full_train, train_size = train_valid_ratio, random_state = 1)"
   ]
  },
  {
   "cell_type": "code",
   "execution_count": 4,
   "metadata": {},
   "outputs": [],
   "source": [
    "def build_dataset(df, dest_path):\n",
    "    f = open(dest_path, 'w')\n",
    "    data = ''\n",
    "    summaries = df['summary'].tolist()\n",
    "    for summary in summaries:\n",
    "        summary = str(summary).strip()\n",
    "        summary = re.sub(r\"\\s\", \" \", summary)\n",
    "        bos_token = '<BOS>'\n",
    "        eos_token = '<EOS>'\n",
    "        data += bos_token + ' ' + summary + ' ' + eos_token + '\\n'\n",
    "        \n",
    "    f.write(data)"
   ]
  },
  {
   "cell_type": "code",
   "execution_count": 5,
   "metadata": {},
   "outputs": [],
   "source": [
    "build_dataset(df_train, 'train.txt')\n",
    "build_dataset(df_valid, 'valid.txt')\n",
    "build_dataset(df_test, 'test.txt')"
   ]
  },
  {
   "cell_type": "code",
   "execution_count": null,
   "metadata": {},
   "outputs": [],
   "source": []
  }
 ],
 "metadata": {
  "kernelspec": {
   "display_name": "cs224n",
   "language": "python",
   "name": "python3"
  },
  "language_info": {
   "codemirror_mode": {
    "name": "ipython",
    "version": 3
   },
   "file_extension": ".py",
   "mimetype": "text/x-python",
   "name": "python",
   "nbconvert_exporter": "python",
   "pygments_lexer": "ipython3",
   "version": "3.7.15"
  },
  "vscode": {
   "interpreter": {
    "hash": "c9ee1a34c78e3e5a7c3f1db6ea416f3d1d1833b79701966ecef13b0cf7b9acb1"
   }
  }
 },
 "nbformat": 4,
 "nbformat_minor": 2
}
